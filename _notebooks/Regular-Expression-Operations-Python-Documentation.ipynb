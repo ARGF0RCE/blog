{
 "cells": [
  {
   "cell_type": "markdown",
   "metadata": {},
   "source": [
    "# Regular expression operations\n",
    "\n",
    "> This module provides regular expression matching operations similar to those found in Perl.\n",
    "\n",
    "- toc: true\n",
    "- branch: master\n",
    "- badges: true\n",
    "- comments: true\n",
    "- categories: [re, jupyter]\n",
    "- image: images/RE_Blog_Logo.png\n",
    "- hide: false\n",
    "- search_exclude: false"
   ]
  },
  {
   "cell_type": "markdown",
   "metadata": {},
   "source": [
    "Both patterns and strings to be searched can be Unicode strings (`str`) as well as 8-bit strings (`bytes`). However, Unicode strings and 8-bit strings cannot be mixed: that is, you cannot match a Unicode string with a byte pattern or vice-versa; similarly, when asking for substitution, the replacement string must be of the same type as both the pattern and the search string.\n",
    "\n",
    "Regular expressions use the backslash character (`'\\'`) to indicate special forms or to allow special characters to be used without invoking their special meaning. This collides with Python's usage of the same character for the same purpose in string literals.\n",
    "\n",
    "The solution is to use Python's raw string notation for regular expression patterns; backshalashes are not handled in any special way in a string literal prefixed with `'r'`'. So `r\"\\n\"` is a two character string, while `\"\\n\"` is a one-character string containing a newline. Usually patterns will be expressed in Python Code using the raw string notation.\n",
    "\n",
    "> **Note:** It is important to note that most regular expression operations are available as module-level functions and methods on compiled regular expressions. The functions are shortcuts that don't require you to compile a regex object firs, but miss some fine-tuning parameters.\n",
    "\n",
    "\n",
    "## Regular Expression Syntax\n",
    "\n",
    "A regular expression (or RE) specifies a set of strings that matches it; the functions in this module let you check if a particular string matches a given regular expression or matches a particular string (source string).\n",
    "\n",
    "Regular expressions can be concatenated to form new regular expressions; if _A_ and _B_ are both regular expressions, then _AB_ is also regular expression.\n",
    "\n",
    "A brief explanation of the format of regular expressions follows.\n",
    "\n",
    "Regular expressions can contain both special and ordinary characters. Most ordinary characters, like `'A'`, `'a'`, or `'0'`, are the simplest regular expressions; they simply match themselves.\n",
    "\n",
    "Some characters, like `'|'` or `'('`, are special. Special characters either stand for classes of ordinary characters, or affect how the regular expressions around them are interpreted.\n",
    "\n",
    "Repetition qualifiers (`*`, `+`, `?`, `{m,n}`, etc) cannot be directly nested. This avoids ambiguity with the non-greedy modifier suffix `?`, and with other modifiers in other implementations. To apply a second repetition to an inner repetition, parentheses may be used. For example, the expression `(?:a{6})*` matches any multiple of six `'a'` characters.\n",
    "\n",
    "The special characters:\n",
    "\n",
    "- `.` : (Dot) In the default mode, this matches any character except a newline. If the `DOTALL` flag has been specified, this matches any character including newline.\n",
    "- `^` : (Caret) Matches the start of the string, and in `MULTILINE` mode also matches immediately after each newline\n",
    "- `$` : Matches the end of the string or just before the newline at the end of the string, and in `MULTILINE` mode also matches before a newline."
   ]
  },
  {
   "cell_type": "markdown",
   "metadata": {},
   "source": [
    "- `*` : Causes the resulting RE to match 0 or more repetitions of the preceding RE, as many repetitions as are possible.\n",
    "- `+` : Causes the resulting RE to match 1 or more repetitions of the preceding RE.\n",
    "- `?` : Causing the resulting RE to match 0 or 1 repitions of the precedding RE.\n",
    "- `*?`, `+?`, `??` : The `'*'`, `'+'`, and `'?'` qualifiers are all _greedy_; they match as much text as possible."
   ]
  },
  {
   "cell_type": "code",
   "execution_count": null,
   "metadata": {},
   "outputs": [],
   "source": []
  }
 ],
 "metadata": {
  "kernelspec": {
   "display_name": "Python 3",
   "language": "python",
   "name": "python3"
  },
  "language_info": {
   "codemirror_mode": {
    "name": "ipython",
    "version": 3
   },
   "file_extension": ".py",
   "mimetype": "text/x-python",
   "name": "python",
   "nbconvert_exporter": "python",
   "pygments_lexer": "ipython3",
   "version": "3.7.3"
  }
 },
 "nbformat": 4,
 "nbformat_minor": 2
}
